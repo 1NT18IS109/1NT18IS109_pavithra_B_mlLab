{
 "cells": [
  {
   "cell_type": "code",
   "execution_count": 6,
   "metadata": {},
   "outputs": [
    {
     "name": "stdout",
     "output_type": "stream",
     "text": [
      "value: normalized value\n",
      "115.3 : 0.23691722169362506\n",
      "195.5 : 1.0\n",
      "120.5 : 0.2863939105613701\n",
      "110.2 : 0.18839200761179828\n",
      "90.4 : 0.0\n",
      "105.6 : 0.14462416745956222\n",
      "110.9 : 0.1950523311132255\n",
      "116.3 : 0.24643196955280677\n",
      "122.3 : 0.3035204567078972\n",
      "125.4 : 0.3330161750713606\n"
     ]
    }
   ],
   "source": [
    "#min-max normalization\n",
    "a=(115.3,195.5,120.5,110.2,90.4,105.6,110.9,116.3,122.3,125.4)\n",
    "xmin= min(a)\n",
    "xmax= max(a)\n",
    "print(\"value: normalized value\")\n",
    "for x in a:\n",
    "    n= (x-xmin)/(xmax-xmin)\n",
    "    print(\"{} : {}\" .format(x,n))\n",
    "    \n",
    "    "
   ]
  },
  {
   "cell_type": "code",
   "execution_count": 8,
   "metadata": {},
   "outputs": [
    {
     "name": "stdout",
     "output_type": "stream",
     "text": [
      "value : standardized value\n",
      "115.3 : -0.22422720478983732\n",
      "195.5 : 2.803217546749711\n",
      "120.5 : -0.02793402887954231\n",
      "110.2 : -0.4167455119326263\n",
      "90.4 : -1.164169527898749\n",
      "105.6 : -0.5903894752378875\n",
      "110.9 : -0.3903214305600865\n",
      "116.3 : -0.18647851711478058\n",
      "122.3 : 0.040013608935559664\n",
      "125.4 : 0.15703454072823578\n"
     ]
    }
   ],
   "source": [
    "#standardization\n",
    "import math\n",
    "temp_sum = 0\n",
    "a = (115.3,195.5,120.5,110.2,90.4,105.6,110.9,116.3,122.3,125.4)\n",
    "mean = sum(a)/len(a)\n",
    "for i in a:\n",
    "    temp_sum = temp_sum + ((i-mean)**2)\n",
    "sd = math.sqrt((temp_sum/(len(a))))\n",
    "print(\"value : standardized value\")\n",
    "for i in a:\n",
    "    s = (i-mean)/sd\n",
    "    print(\"{} : {}\" .format(i,s))\n",
    "        "
   ]
  },
  {
   "cell_type": "code",
   "execution_count": null,
   "metadata": {},
   "outputs": [],
   "source": []
  }
 ],
 "metadata": {
  "kernelspec": {
   "display_name": "Python 3",
   "language": "python",
   "name": "python3"
  },
  "language_info": {
   "codemirror_mode": {
    "name": "ipython",
    "version": 3
   },
   "file_extension": ".py",
   "mimetype": "text/x-python",
   "name": "python",
   "nbconvert_exporter": "python",
   "pygments_lexer": "ipython3",
   "version": "3.8.5"
  }
 },
 "nbformat": 4,
 "nbformat_minor": 4
}
